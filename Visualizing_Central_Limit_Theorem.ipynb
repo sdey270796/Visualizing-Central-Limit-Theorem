{
  "nbformat": 4,
  "nbformat_minor": 0,
  "metadata": {
    "colab": {
      "provenance": []
    },
    "kernelspec": {
      "name": "python3",
      "display_name": "Python 3"
    },
    "language_info": {
      "name": "python"
    }
  },
  "cells": [
    {
      "cell_type": "code",
      "execution_count": 16,
      "metadata": {
        "id": "GiAxPDIxm00y"
      },
      "outputs": [],
      "source": [
        "import numpy as np\n",
        "import matplotlib.pyplot as plt\n",
        "from scipy.stats import t, chi2, f, binom,  norm, entropy\n",
        "import imageio\n",
        "import os"
      ]
    },
    {
      "cell_type": "code",
      "source": [
        "dof_range = range(1, 100)"
      ],
      "metadata": {
        "id": "2Hpwe24cnKx1"
      },
      "execution_count": 11,
      "outputs": []
    },
    {
      "cell_type": "code",
      "source": [
        "def create_distribution_gif_with_kl(distribution, dof_range, filename):\n",
        "    frames = []\n",
        "    frame_paths = []  # Store frame paths separately\n",
        "    kl_divergences = []  # To store KL divergence values for each dof\n",
        "\n",
        "    # Create a directory to save frames\n",
        "    if not os.path.exists(\"frames\"):\n",
        "        os.makedirs(\"frames\")\n",
        "\n",
        "    for dof in dof_range:\n",
        "        plt.figure(figsize=(6, 4))\n",
        "\n",
        "        # Generate data and x-range for the chosen distribution\n",
        "        if distribution == 't':\n",
        "            data = t.rvs(df=dof, size=1000)\n",
        "            x = np.linspace(-5, 5, 1000)\n",
        "            y = t.pdf(x, df=dof)\n",
        "            title = f\"t-distribution with dof={dof}\"\n",
        "        elif distribution == 'chi2':\n",
        "            data = chi2.rvs(df=dof, size=1000)\n",
        "            x = np.linspace(0, max(data), 1000)\n",
        "            y = chi2.pdf(x, df=dof)\n",
        "            title = f\"Chi-square distribution with dof={dof}\"\n",
        "        elif distribution == 'f':\n",
        "            data = f.rvs(dof, dof, size=1000)\n",
        "            x = np.linspace(0, max(data), 1000)\n",
        "            y = f.pdf(x, dfn=dof, dfd=dof)\n",
        "            title = f\"F-distribution with dof={dof}\"\n",
        "        elif distribution == 'binom':\n",
        "            data = binom.rvs(n=dof, p=0.5, size=1000)\n",
        "            x = np.linspace(0, dof, 1000)\n",
        "            y = binom.pmf(np.round(x), n=dof, p=0.5)  # Use PMF for discrete binomial\n",
        "            title = f\"Binomial distribution with n={dof}\"\n",
        "        else:\n",
        "            raise ValueError(\"Unsupported distribution\")\n",
        "\n",
        "        # Plot the line diagram for the distribution\n",
        "        plt.plot(x, y, color='blue', label=f\"{distribution} distribution\")\n",
        "\n",
        "        # Overlay normal distribution as a dotted line\n",
        "        mean, std_dev = np.mean(data), np.std(data)\n",
        "        normal_dist = norm.pdf(x, loc=mean, scale=std_dev)\n",
        "        plt.plot(x, normal_dist, 'r--', label='Normal Distribution')\n",
        "\n",
        "        # Calculate KL Divergence\n",
        "        kl_divergence = entropy(y, normal_dist)\n",
        "        kl_divergences.append(kl_divergence)\n",
        "\n",
        "        # Add labels and title\n",
        "        plt.title(title)\n",
        "        plt.xlabel('Value')\n",
        "        plt.ylabel('Density')\n",
        "        plt.grid(True)\n",
        "        plt.legend()\n",
        "\n",
        "        # Display KL divergence value on the plot\n",
        "        plt.text(0.05, 0.85, f\"KL Divergence: {kl_divergence:.4f}\", transform=plt.gca().transAxes, fontsize=10, color='green')\n",
        "\n",
        "        # Save the frame and add to list for GIF creation\n",
        "        frame_path = f\"frames/frame_{dof}.png\"\n",
        "        plt.savefig(frame_path)\n",
        "        frames.append(imageio.imread(frame_path))\n",
        "        frame_paths.append(frame_path)  # Store the frame path\n",
        "        plt.close()\n",
        "\n",
        "    # Create the GIF\n",
        "    imageio.mimsave(filename, frames, duration=0.5)\n",
        "\n",
        "    # Clean up frames using frame_paths\n",
        "    for frame_path in frame_paths:\n",
        "        os.remove(frame_path)\n",
        "    os.rmdir(\"frames\")\n",
        "\n",
        "    return kl_divergences"
      ],
      "metadata": {
        "id": "f6hy0GT0wM14"
      },
      "execution_count": 20,
      "outputs": []
    },
    {
      "cell_type": "code",
      "source": [
        "# Example usage\n",
        "min_range = int(input(\"Enter the range of minimum dof value: \"))\n",
        "max_range = int(input(\"Enter the range of maximum dof value: \"))\n",
        "dof_range = range(min_range, max_range)"
      ],
      "metadata": {
        "colab": {
          "base_uri": "https://localhost:8080/"
        },
        "id": "FG0ZXrHPw1a-",
        "outputId": "2e3c5325-e7ed-48ad-adcf-02b5c7b2447b"
      },
      "execution_count": 18,
      "outputs": [
        {
          "name": "stdout",
          "output_type": "stream",
          "text": [
            "Enter the range of minimum dof value: 1\n",
            "Enter the range of maximum dof value: 100\n"
          ]
        }
      ]
    },
    {
      "cell_type": "code",
      "source": [
        "kl_divergences_t = create_distribution_gif_with_kl('t', dof_range, 't_distribution_kl.gif')"
      ],
      "metadata": {
        "colab": {
          "base_uri": "https://localhost:8080/"
        },
        "id": "9acTM2pSw6ML",
        "outputId": "bfc13ec0-e12f-46af-9d2d-e089a4a68b6b"
      },
      "execution_count": 21,
      "outputs": [
        {
          "output_type": "stream",
          "name": "stderr",
          "text": [
            "<ipython-input-20-a51448dde1c7>:62: DeprecationWarning: Starting with ImageIO v3 the behavior of this function will switch to that of iio.v3.imread. To keep the current behavior (and make this warning disappear) use `import imageio.v2 as imageio` or call `imageio.v2.imread` directly.\n",
            "  frames.append(imageio.imread(frame_path))\n"
          ]
        }
      ]
    },
    {
      "cell_type": "code",
      "source": [
        "kl_divergences_chi2 = create_distribution_gif_with_kl('chi2', dof_range, 'chi2_distribution_kl.gif')"
      ],
      "metadata": {
        "colab": {
          "base_uri": "https://localhost:8080/"
        },
        "id": "RIZNsudfxAmv",
        "outputId": "d8662ba1-2c02-4851-88a8-ae68379cf849"
      },
      "execution_count": 22,
      "outputs": [
        {
          "output_type": "stream",
          "name": "stderr",
          "text": [
            "<ipython-input-20-a51448dde1c7>:62: DeprecationWarning: Starting with ImageIO v3 the behavior of this function will switch to that of iio.v3.imread. To keep the current behavior (and make this warning disappear) use `import imageio.v2 as imageio` or call `imageio.v2.imread` directly.\n",
            "  frames.append(imageio.imread(frame_path))\n"
          ]
        }
      ]
    },
    {
      "cell_type": "code",
      "source": [
        "kl_divergences_f = create_distribution_gif_with_kl('f', dof_range, 'f_distribution_kl.gif')"
      ],
      "metadata": {
        "colab": {
          "base_uri": "https://localhost:8080/"
        },
        "id": "UGego9EDxE9C",
        "outputId": "dccadb64-acff-4b52-8909-85ecc12309c9"
      },
      "execution_count": 23,
      "outputs": [
        {
          "output_type": "stream",
          "name": "stderr",
          "text": [
            "<ipython-input-20-a51448dde1c7>:62: DeprecationWarning: Starting with ImageIO v3 the behavior of this function will switch to that of iio.v3.imread. To keep the current behavior (and make this warning disappear) use `import imageio.v2 as imageio` or call `imageio.v2.imread` directly.\n",
            "  frames.append(imageio.imread(frame_path))\n"
          ]
        }
      ]
    },
    {
      "cell_type": "code",
      "source": [
        "kl_divergences_binom = create_distribution_gif_with_kl('binom', dof_range, 'binom_distribution_kl.gif')"
      ],
      "metadata": {
        "colab": {
          "base_uri": "https://localhost:8080/"
        },
        "id": "Vug6IpOSxJFb",
        "outputId": "6518db06-6a2a-4c46-8c9d-ee92ad887988"
      },
      "execution_count": 24,
      "outputs": [
        {
          "output_type": "stream",
          "name": "stderr",
          "text": [
            "<ipython-input-20-a51448dde1c7>:62: DeprecationWarning: Starting with ImageIO v3 the behavior of this function will switch to that of iio.v3.imread. To keep the current behavior (and make this warning disappear) use `import imageio.v2 as imageio` or call `imageio.v2.imread` directly.\n",
            "  frames.append(imageio.imread(frame_path))\n"
          ]
        }
      ]
    }
  ]
}